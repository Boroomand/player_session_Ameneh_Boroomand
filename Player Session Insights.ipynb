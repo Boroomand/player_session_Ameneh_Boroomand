{
 "cells": [
  {
   "cell_type": "markdown",
   "metadata": {},
   "source": [
    "# Load Data from json line file"
   ]
  },
  {
   "cell_type": "code",
   "execution_count": 23,
   "metadata": {},
   "outputs": [],
   "source": [
    "# Import Libraries\n",
    "\n",
    "from pyspark import SparkContext\n",
    "from pyspark.sql import SparkSession\n",
    "\n",
    "import seaborn as sns\n",
    "import matplotlib.pyplot as plt\n",
    "import pandas as pd"
   ]
  },
  {
   "cell_type": "code",
   "execution_count": 33,
   "metadata": {},
   "outputs": [
    {
     "name": "stdout",
     "output_type": "stream",
     "text": [
      "+-------+-----+--------------------+--------------------+-------------------+\n",
      "|country|event|           player_id|          session_id|                 ts|\n",
      "+-------+-----+--------------------+--------------------+-------------------+\n",
      "|     PK|start|d6313e1fb7d247a6a...|674606b1-2270-428...|2016-11-22T20:40:50|\n",
      "|   null|  end|20ac16ebb30a47708...|16ca9d01-d240-452...|2016-11-18T06:24:50|\n",
      "|   null|  end|318e22b061b54042b...|5f933591-8cd5-414...|2016-11-16T18:01:37|\n",
      "|   null|  end|29bb390d9b1b4b4b9...|ef939180-692a-484...|2016-11-13T10:38:09|\n",
      "|     GH|start|a477ecabc3cc455cb...|4c55263e-66b2-481...|2016-11-29T19:31:43|\n",
      "|     SK|start|1ec36a67785046b3b...|3346a60a-0989-404...|2016-11-16T05:36:16|\n",
      "|     DE|start|9595af0063e94cb8a...|06830030-d091-428...|2016-11-07T01:18:09|\n",
      "|   null|  end|8d0e3cd4a25d4a089...|a78a4889-4bcf-45a...|2016-11-24T02:12:33|\n",
      "|   null|  end|e59f1fa31e144fd8b...|dd223ea6-0e6b-4dd...|2016-11-13T00:35:30|\n",
      "|   null|  end|fd8a1e9fff25471da...|3015bf71-4b28-4c9...|2016-11-21T01:18:57|\n",
      "+-------+-----+--------------------+--------------------+-------------------+\n",
      "only showing top 10 rows\n",
      "\n"
     ]
    }
   ],
   "source": [
    "\n",
    "\n",
    "# Instantiate SparkContext\n",
    "spark_sc=SparkContext.getOrCreate()\n",
    "\n",
    "spark=SparkSession(spark_sc)\n",
    "\n",
    "# Read json data in to the DataFrame\n",
    "data = spark.read.json(\"assignment_data.jsonl\")\n",
    "\n",
    "#Display 10 first rows of data context\n",
    "data.show(10)"
   ]
  },
  {
   "cell_type": "markdown",
   "metadata": {},
   "source": [
    "# How many sessions are in the dataset?"
   ]
  },
  {
   "cell_type": "code",
   "execution_count": 25,
   "metadata": {},
   "outputs": [
    {
     "name": "stdout",
     "output_type": "stream",
     "text": [
      "+-------+--------------------+\n",
      "|summary|          session_id|\n",
      "+-------+--------------------+\n",
      "|  count|              500587|\n",
      "|   mean|                null|\n",
      "| stddev|                null|\n",
      "|    min|00000934-5c74-4c1...|\n",
      "|    max|ffffb31f-de89-46a...|\n",
      "+-------+--------------------+\n",
      "\n"
     ]
    }
   ],
   "source": [
    "# Groupby data by session_id and count number of sessions\n",
    "num_session_in_data=data.groupby('session_id').count()\n",
    "\n",
    "# Display count of sessions in data and shows some Descriptive statistics of data (mean, stddv, min and max)\n",
    "num_session_in_data.describe('session_id').show()"
   ]
  },
  {
   "cell_type": "markdown",
   "metadata": {},
   "source": [
    "# how many sessions are completed per country?"
   ]
  },
  {
   "cell_type": "code",
   "execution_count": 26,
   "metadata": {},
   "outputs": [
    {
     "name": "stdout",
     "output_type": "stream",
     "text": [
      "+-------+-------------------------+\n",
      "|country|count_session_per_country|\n",
      "+-------+-------------------------+\n",
      "|     DZ|                     1953|\n",
      "|     MM|                     1996|\n",
      "|     LT|                     2276|\n",
      "|     TC|                     2206|\n",
      "|     AZ|                     2670|\n",
      "|     SC|                     1774|\n",
      "|     FI|                     2349|\n",
      "|     PM|                     2112|\n",
      "|     UA|                     2141|\n",
      "|     RO|                     2550|\n",
      "|     KI|                     1662|\n",
      "|     ZM|                     1680|\n",
      "|     SL|                     2202|\n",
      "|     SB|                     1626|\n",
      "|     LA|                     2402|\n",
      "|     NL|                     2247|\n",
      "|     BW|                     2168|\n",
      "|     BS|                     2239|\n",
      "|     MN|                     2365|\n",
      "|     PS|                     2011|\n",
      "+-------+-------------------------+\n",
      "only showing top 20 rows\n",
      "\n"
     ]
    }
   ],
   "source": [
    "#Create a temporary view of the table on memory that is used for running the requitres sql query\n",
    "data.createOrReplaceTempView(\"sessionplayer\")\n",
    "\n",
    "query = \"\"\"select a.country,COUNT(a.session_id) as count_session_per_country from sessionplayer a \n",
    "                                        Inner join sessionplayer b on a.session_id=b.session_id and a.event!=b.event \n",
    "                                        where a.country!=\"\" \n",
    "                                        group by a.country\"\"\"\n",
    "\n",
    "completed_session_per_country=spark.sql(query)\n",
    "\n",
    "# Display number of sessions for each country \n",
    "completed_session_per_country.show()"
   ]
  },
  {
   "cell_type": "markdown",
   "metadata": {},
   "source": [
    "# How many sessions are completed per player?"
   ]
  },
  {
   "cell_type": "code",
   "execution_count": 27,
   "metadata": {},
   "outputs": [
    {
     "name": "stdout",
     "output_type": "stream",
     "text": [
      "+--------------------+-----------------+\n",
      "|           player_id|count(session_id)|\n",
      "+--------------------+-----------------+\n",
      "|05e73a69c41943498...|               25|\n",
      "|465f81dfdee345669...|               33|\n",
      "|522a28a053a44af69...|               46|\n",
      "|3f282f08b347481b8...|               37|\n",
      "|cd5742d5ad5247a79...|                3|\n",
      "|3e888630d54e4dde9...|               42|\n",
      "|3aa78890e9454b46b...|               20|\n",
      "|fffa44da04a24d799...|               27|\n",
      "|f147eebba02a4da3b...|               42|\n",
      "|37370d0139544d1ca...|               50|\n",
      "|e8f36a8efded42bfb...|               50|\n",
      "|293da457fd584ea18...|               34|\n",
      "|3cc80842b10c477d8...|               43|\n",
      "|0395b10232f34d3eb...|               49|\n",
      "|600894a22d3a4aa68...|               36|\n",
      "|2325e83bc1d14c4fb...|               38|\n",
      "|ec0a0483fddd4ebfa...|               49|\n",
      "|154470fc7c23483c8...|               37|\n",
      "|a677d0d5099d40008...|               46|\n",
      "|5f96555b2e074e7aa...|               12|\n",
      "+--------------------+-----------------+\n",
      "only showing top 20 rows\n",
      "\n"
     ]
    }
   ],
   "source": [
    "query = \"\"\"select player_id, Count(session_id) from sessionplayer\n",
    "                                          where event=\"end\"\n",
    "                                          GROUP by player_id\"\"\"\n",
    "\n",
    "session_completed_per_player=spark.sql(query)\n",
    "\n",
    "# Display number of sessions completed for each player\n",
    "session_completed_per_player.show()\n",
    "\n"
   ]
  },
  {
   "cell_type": "markdown",
   "metadata": {},
   "source": [
    "# What is the country with more sessions started during 2018?"
   ]
  },
  {
   "cell_type": "code",
   "execution_count": 28,
   "metadata": {},
   "outputs": [
    {
     "name": "stdout",
     "output_type": "stream",
     "text": [
      "+--------------------+-----------------+\n",
      "|           player_id|count(session_id)|\n",
      "+--------------------+-----------------+\n",
      "|05e73a69c41943498...|               25|\n",
      "|465f81dfdee345669...|               33|\n",
      "|522a28a053a44af69...|               46|\n",
      "|3f282f08b347481b8...|               37|\n",
      "|cd5742d5ad5247a79...|                3|\n",
      "|3e888630d54e4dde9...|               42|\n",
      "|3aa78890e9454b46b...|               20|\n",
      "|fffa44da04a24d799...|               27|\n",
      "|f147eebba02a4da3b...|               42|\n",
      "|37370d0139544d1ca...|               50|\n",
      "|e8f36a8efded42bfb...|               50|\n",
      "|293da457fd584ea18...|               34|\n",
      "|3cc80842b10c477d8...|               43|\n",
      "|0395b10232f34d3eb...|               49|\n",
      "|600894a22d3a4aa68...|               36|\n",
      "|2325e83bc1d14c4fb...|               38|\n",
      "|ec0a0483fddd4ebfa...|               49|\n",
      "|154470fc7c23483c8...|               37|\n",
      "|a677d0d5099d40008...|               46|\n",
      "|5f96555b2e074e7aa...|               12|\n",
      "+--------------------+-----------------+\n",
      "only showing top 20 rows\n",
      "\n"
     ]
    }
   ],
   "source": [
    "quesry = \"\"\"select country, count(session_id) from sessionplayer \n",
    "                                      where year(ts)=\"2018\" and event=\"start\" \n",
    "                                      group by country\"\"\"\n",
    "\n",
    "country_with_more_sessions=spark.sql(query)\n",
    "\n",
    "country_with_more_sessions.show()"
   ]
  },
  {
   "cell_type": "markdown",
   "metadata": {},
   "source": [
    "# Plot the player sessions completed per country"
   ]
  },
  {
   "cell_type": "code",
   "execution_count": 36,
   "metadata": {},
   "outputs": [
    {
     "data": {
      "text/plain": [
       "<AxesSubplot:xlabel='country'>"
      ]
     },
     "execution_count": 36,
     "metadata": {},
     "output_type": "execute_result"
    },
    {
     "data": {
      "image/png": "[encoded data removed]",
      "text/plain": [
       "<Figure size 432x288 with 1 Axes>"
      ]
     },
     "metadata": {
      "needs_background": "light"
     },
     "output_type": "display_data"
    }
   ],
   "source": [
    "plt_session_completed_per_country=completed_session_per_country.limit(10)\n",
    "pandas_df = plt_session_completed_per_country.toPandas()\n",
    "pandas_df.plot.bar(x='country',y='count_session_per_country', rot=0)"
   ]
  },
  {
   "cell_type": "code",
   "execution_count": null,
   "metadata": {},
   "outputs": [],
   "source": []
  }
 ],
 "metadata": {
  "kernelspec": {
   "display_name": "unity",
   "language": "python",
   "name": "unity"
  },
  "language_info": {
   "codemirror_mode": {
    "name": "ipython",
    "version": 3
   },
   "file_extension": ".py",
   "mimetype": "text/x-python",
   "name": "python",
   "nbconvert_exporter": "python",
   "pygments_lexer": "ipython3",
   "version": "3.6.5"
  }
 },
 "nbformat": 4,
 "nbformat_minor": 2
}
